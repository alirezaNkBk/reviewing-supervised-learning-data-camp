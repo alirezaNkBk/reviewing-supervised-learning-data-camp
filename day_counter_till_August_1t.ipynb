{
 "cells": [
  {
   "cell_type": "code",
   "execution_count": 9,
   "id": "2f1cbef8",
   "metadata": {},
   "outputs": [
    {
     "name": "stdout",
     "output_type": "stream",
     "text": [
      "243 days, 8:28:38.178452\n"
     ]
    }
   ],
   "source": [
    "from datetime import datetime\n",
    "then = datetime(2022, 8, 1)        # Random date in later\n",
    "now  = datetime.now()                         # Now\n",
    "\n",
    "\n",
    "print(then - now)                 \n"
   ]
  },
  {
   "cell_type": "code",
   "execution_count": 10,
   "id": "18badd2d",
   "metadata": {},
   "outputs": [
    {
     "data": {
      "text/plain": [
       "datetime.datetime(2021, 11, 30, 15, 31, 21, 821548)"
      ]
     },
     "execution_count": 10,
     "metadata": {},
     "output_type": "execute_result"
    }
   ],
   "source": [
    "now"
   ]
  },
  {
   "cell_type": "code",
   "execution_count": null,
   "id": "ae5dd0ed",
   "metadata": {},
   "outputs": [],
   "source": []
  }
 ],
 "metadata": {
  "kernelspec": {
   "display_name": "Python 3",
   "language": "python",
   "name": "python3"
  },
  "language_info": {
   "codemirror_mode": {
    "name": "ipython",
    "version": 3
   },
   "file_extension": ".py",
   "mimetype": "text/x-python",
   "name": "python",
   "nbconvert_exporter": "python",
   "pygments_lexer": "ipython3",
   "version": "3.8.8"
  }
 },
 "nbformat": 4,
 "nbformat_minor": 5
}
